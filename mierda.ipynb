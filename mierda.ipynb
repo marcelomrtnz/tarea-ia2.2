{
 "cells": [
  {
   "cell_type": "code",
   "execution_count": null,
   "id": "45628edf",
   "metadata": {},
   "outputs": [],
   "source": [
    "import pandas as pd\n",
    "import numpy as np\n",
    "from sklearn.model_selection import train_test_split\n",
    "from sklearn.linear_model import LinearRegression\n",
    "from sklearn.metrics import r2_score\n",
    "from sklearn.preprocessing import OneHotEncoder, PolynomialFeatures\n",
    "from sklearn.impute import SimpleImputer"
   ]
  },
  {
   "cell_type": "code",
   "execution_count": null,
   "id": "cfe1af8a",
   "metadata": {},
   "outputs": [],
   "source": [
    "# Cargar y limpiar datos\n",
    "housing_data = pd.read_csv('./datasets/housing.csv')\n",
    "housing_data = housing_data.dropna()"
   ]
  },
  {
   "cell_type": "code",
   "execution_count": null,
   "id": "6dcf0c24",
   "metadata": {},
   "outputs": [],
   "source": [
    "# Crear nuevas características\n",
    "housing_data[\"rooms_per_household\"] = housing_data[\"total_rooms\"] / housing_data[\"households\"]\n",
    "housing_data[\"bedrooms_per_room\"] = housing_data[\"total_bedrooms\"] / housing_data[\"total_rooms\"]\n",
    "housing_data[\"population_per_household\"] = housing_data[\"population\"] / housing_data[\"households\"]"
   ]
  },
  {
   "cell_type": "code",
   "execution_count": null,
   "id": "5b3bd750",
   "metadata": {},
   "outputs": [],
   "source": [
    "# Separar características y variable objetivo\n",
    "X = housing_data.drop(columns=\"median_house_value\")\n",
    "y = housing_data[\"median_house_value\"]\n",
    "X_train, X_test, y_train, y_test = train_test_split(X, y, test_size=0.2, random_state=42)"
   ]
  },
  {
   "cell_type": "code",
   "execution_count": null,
   "id": "47dc9551",
   "metadata": {},
   "outputs": [],
   "source": [
    "# Preprocesamiento manual\n",
    "# Imputación de valores faltantes en características numéricas\n",
    "numeric_features = X_train.select_dtypes(include=[\"float64\", \"int64\"]).columns\n",
    "imputer = SimpleImputer(strategy=\"mean\")\n",
    "X_train[numeric_features] = imputer.fit_transform(X_train[numeric_features])\n",
    "X_test[numeric_features] = imputer.transform(X_test[numeric_features])"
   ]
  },
  {
   "cell_type": "code",
   "execution_count": null,
   "id": "b04e6921",
   "metadata": {},
   "outputs": [],
   "source": [
    "# Codificación de características categóricas\n",
    "categorical_feature = \"ocean_proximity\"\n",
    "encoder = OneHotEncoder(drop=\"first\", sparse=False)\n",
    "X_train_encoded = encoder.fit_transform(X_train[[categorical_feature]])\n",
    "X_test_encoded = encoder.transform(X_test[[categorical_feature]])"
   ]
  },
  {
   "cell_type": "code",
   "execution_count": null,
   "id": "54bf8627",
   "metadata": {},
   "outputs": [],
   "source": [
    "# Agregar características categóricas codificadas a las numéricas\n",
    "X_train = np.hstack([X_train[numeric_features], X_train_encoded])\n",
    "X_test = np.hstack([X_test[numeric_features], X_test_encoded])"
   ]
  },
  {
   "cell_type": "code",
   "execution_count": null,
   "id": "0377ec14",
   "metadata": {},
   "outputs": [],
   "source": [
    "# Generar características polinómicas\n",
    "poly = PolynomialFeatures(degree=2, include_bias=False)\n",
    "X_train_poly = poly.fit_transform(X_train)\n",
    "X_test_poly = poly.transform(X_test)"
   ]
  },
  {
   "cell_type": "code",
   "execution_count": null,
   "id": "3fecc0ac",
   "metadata": {},
   "outputs": [],
   "source": [
    "# Entrenar el modelo de regresión lineal\n",
    "model = LinearRegression()\n",
    "model.fit(X_train_poly, y_train)"
   ]
  },
  {
   "cell_type": "code",
   "execution_count": null,
   "id": "59b35943",
   "metadata": {},
   "outputs": [],
   "source": [
    "# Evaluar el modelo\n",
    "train_score_poly = r2_score(y_train, model.predict(X_train_poly))\n",
    "test_score_poly = r2_score(y_test, model.predict(X_test_poly))"
   ]
  },
  {
   "cell_type": "code",
   "execution_count": null,
   "id": "0b8975ff",
   "metadata": {},
   "outputs": [],
   "source": [
    "f\"Training Score: {train_score_poly:.4f}\", f\"Test Score: {test_score_poly:.4f}\""
   ]
  }
 ],
 "metadata": {
  "jupytext": {
   "cell_metadata_filter": "-all",
   "main_language": "python",
   "notebook_metadata_filter": "-all"
  }
 },
 "nbformat": 4,
 "nbformat_minor": 5
}
