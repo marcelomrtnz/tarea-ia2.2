{
 "cells": [
  {
   "cell_type": "markdown",
   "metadata": {},
   "source": [
    "• ¿Qué tipo de modelo aplicaría?\n",
    "Aplicaría un Decision Tree Classifier.\n",
    "\n",
    "• ¿Por qué consideras que ese modelo es adecuado?\n",
    "Solo tenemos dos respuestas posibles: \"Reparable\" e \"Irreparable\". Este modelo nos expresa sus predicciones como resultados predefinidos, que es lo que se busca.\n",
    "\n",
    "• ¿De qué manera considera que es diferente a la programación regular, para\n",
    "este tipo de proyectos?\n",
    "En la programación regular trabajamos el flujo de los datos (recibirlos, enviarlos y mostrarlos), pero no los vemos. Aquí no trabajamos mucho con el flujo de los datos, pero sí los vemos y analizarlos.\n",
    "\n",
    "• ¿Por qué cree que los modelos como los vistos en las clases no logran llegar\n",
    "a un 100% de respuestas correctas?\n",
    "Porque es puramente probabilístico, y estos resultados influyen de demasiadas condiciones, muchas que ni siquiera están presentes en los datasets."
   ]
  }
 ],
 "metadata": {
  "language_info": {
   "name": "python"
  }
 },
 "nbformat": 4,
 "nbformat_minor": 2
}
